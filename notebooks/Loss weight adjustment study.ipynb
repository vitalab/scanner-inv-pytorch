{
 "cells": [
  {
   "cell_type": "code",
   "execution_count": 24,
   "id": "a1e5f6d7",
   "metadata": {},
   "outputs": [],
   "source": [
    "import comet_ml\n",
    "import matplotlib.pyplot as plt\n",
    "import numpy as np"
   ]
  },
  {
   "cell_type": "code",
   "execution_count": 4,
   "id": "4b849784",
   "metadata": {},
   "outputs": [],
   "source": [
    "api = comet_ml.api.API(api_key='z4s7SHtPPZqFaWHM7JWMD9zqS')"
   ]
  },
  {
   "cell_type": "code",
   "execution_count": null,
   "outputs": [],
   "source": [
    "def get_exp(name):\n",
    "    return api.get_experiment('', 'harmon-moyer', name)"
   ],
   "metadata": {
    "collapsed": false,
    "pycharm": {
     "name": "#%%\n"
    }
   }
  },
  {
   "cell_type": "code",
   "execution_count": null,
   "outputs": [],
   "source": [
    "def get_metric(exp, name, target_type=float):\n",
    "    return [target_type(x['metricValue']) for x in exp.get_metrics(name)]"
   ],
   "metadata": {
    "collapsed": false,
    "pycharm": {
     "name": "#%%\n"
    }
   }
  },
  {
   "cell_type": "code",
   "execution_count": null,
   "outputs": [],
   "source": [
    "def get_params(exp):\n",
    "    return {x['name']: x['valueCurrent'] for x in exp.get_parameters_summary()}"
   ],
   "metadata": {
    "collapsed": false,
    "pycharm": {
     "name": "#%%\n"
    }
   }
  },
  {
   "cell_type": "code",
   "execution_count": null,
   "outputs": [],
   "source": [
    "def make_plot(exp):\n",
    "    param_dict = get_params(exp)\n",
    "    \n",
    "    plt.figure(figsize=(14, 5))\n",
    "    plt.suptitle(exp.name)\n",
    "\n",
    "    plt.subplot(1, 4, 1)\n",
    "    plt.title('Loss weights')\n",
    "    plt.pie([float(param_dict['loss_weight_recon']), float(param_dict['loss_weight_adv_g'])], labels=['recon', 'adv'])\n",
    "\n",
    "\n",
    "    plt.subplot(1, 4, 2)\n",
    "    plt.title('Mean loss values')\n",
    "    plt.pie([\n",
    "        np.mean(get_metric(exp, 'train_loss_recon')),\n",
    "        np.mean(get_metric(exp, 'train_loss_adv_g'))\n",
    "    ], labels=['recon', 'adv'])\n",
    "\n",
    "    plt.subplot(1, 4, 3)\n",
    "    plt.title('Mean encoder update norm')\n",
    "    plt.pie([\n",
    "        np.mean(get_metric(exp, 'dlrecon_dwenc')),\n",
    "        np.mean(get_metric(exp, 'dladv_dwenc'))\n",
    "    ], labels=['recon', 'adv'])\n",
    "    \n",
    "    plt.subplot(1, 4, 4)\n",
    "    plt.title('Mean decoder update norm')\n",
    "    plt.pie([\n",
    "        np.mean(get_metric(exp, 'dlrecon_dwdec')),\n",
    "        np.mean(get_metric(exp, 'dladv_dwdec'))\n",
    "    ], labels=['recon', 'adv'])\n",
    "\n",
    "    plt.show()"
   ],
   "metadata": {
    "collapsed": false,
    "pycharm": {
     "name": "#%%\n"
    }
   }
  },
  {
   "cell_type": "code",
   "execution_count": null,
   "outputs": [],
   "source": [
    "make_plot(get_exp('8ef2282f72e54ff382f1c4c181b5548a'))\n",
    "\n",
    "make_plot(get_exp('9fe74778668c49169ffbd1e13a8832b2'))\n",
    "\n",
    "make_plot(get_exp('81506ab5ce6a463f8d080f96905a2487'))\n",
    "\n",
    "make_plot(get_exp('7133a633b36f4c6ba08c551f04e65f9c'))"
   ],
   "metadata": {
    "collapsed": false,
    "pycharm": {
     "name": "#%%\n"
    }
   }
  }
 ],
 "metadata": {
  "kernelspec": {
   "display_name": "Python 3 (ipykernel)",
   "language": "python",
   "name": "python3"
  },
  "language_info": {
   "codemirror_mode": {
    "name": "ipython",
    "version": 3
   },
   "file_extension": ".py",
   "mimetype": "text/x-python",
   "name": "python",
   "nbconvert_exporter": "python",
   "pygments_lexer": "ipython3",
   "version": "3.8.10"
  }
 },
 "nbformat": 4,
 "nbformat_minor": 5
}